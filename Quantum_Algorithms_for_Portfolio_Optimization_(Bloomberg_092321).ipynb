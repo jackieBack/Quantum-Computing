{
  "nbformat": 4,
  "nbformat_minor": 5,
  "metadata": {
    "celltoolbar": "Slideshow",
    "colab": {
      "name": "Quantum Algorithms for Portfolio Optimization (Bloomberg_092321)",
      "provenance": [],
      "collapsed_sections": [
        "tra8ThjCVziP",
        "l0xus2Cp1jy1",
        "_pmVWtNoiHle",
        "78c1b87d-959d-40d4-8506-a990de05e316",
        "6ESO4e1_dBMe",
        "Is13nxR9h1HX",
        "GEaJal23iC6V",
        "i1Rf_dm0p3Vs",
        "i8PuI7UVqCBQ",
        "pe7I4GO8ncaP",
        "3U3UHIBspnI-"
      ],
      "toc_visible": true
    },
    "kernelspec": {
      "display_name": "Python 3",
      "language": "python",
      "name": "python3"
    },
    "language_info": {
      "codemirror_mode": {
        "name": "ipython",
        "version": 3
      },
      "file_extension": ".py",
      "mimetype": "text/x-python",
      "name": "python",
      "nbconvert_exporter": "python",
      "pygments_lexer": "ipython3",
      "version": "3.8.8"
    }
  },
  "cells": [
    {
      "cell_type": "markdown",
      "metadata": {
        "id": "c4788bff"
      },
      "source": [
        "# Quantum Algorithms for Portfolio Optimization "
      ],
      "id": "c4788bff"
    },
    {
      "cell_type": "markdown",
      "metadata": {
        "id": "36b7aaa1"
      },
      "source": [
        "Beom Joon Baek - September 23rd, 2021"
      ],
      "id": "36b7aaa1"
    },
    {
      "cell_type": "markdown",
      "metadata": {
        "id": "hrI8co63OIwL"
      },
      "source": [
        "# 0. Today's Topics"
      ],
      "id": "hrI8co63OIwL"
    },
    {
      "cell_type": "markdown",
      "metadata": {
        "id": "d70dc229"
      },
      "source": [
        "1. Formulating Portfolio Optimization Problem\n",
        "2. Quadratic Unconstrained Binary Optimization (**QUBO**)\n",
        "3. Quantum Approximate Optimization Algorithm (**QAOA**)\n",
        "4. Qiskit Implementation of Portfolio Optimization Problem\n",
        "5. Results & Conclusions"
      ],
      "id": "d70dc229"
    },
    {
      "cell_type": "markdown",
      "metadata": {
        "id": "tra8ThjCVziP"
      },
      "source": [
        "# 1. Converting Portfolio Optimzation to QUBO to an Ising Model\n"
      ],
      "id": "tra8ThjCVziP"
    },
    {
      "cell_type": "markdown",
      "metadata": {
        "id": "1539c2f6"
      },
      "source": [
        "Mean-variance portfolio optimization problem is a type of optimization problem where given the $n$ universe of possible investments, you choose a number of investments such that you will maximize the following function with corresponding risk appetite, returns, and budget:\n",
        "\n",
        "$$\n",
        "\\min_{x \\in \\{0, 1\\}^n}  q x^T \\Sigma x - \\mu^T x\\\\\n",
        "\\text{subject to: } P^T x \\leq B\n",
        "$$"
      ],
      "id": "1539c2f6"
    },
    {
      "cell_type": "markdown",
      "metadata": {
        "id": "KzJBGnsiV-Hs"
      },
      "source": [
        "where we use the following notation:\n",
        "* $x \\in \\{0, 1\\}^n$ denotes the vector of binary decision variables, which indicate which assets to pick ($x[i] = 1$) and which not to pick ($x[i] = 0$)\n",
        "* $\\mu \\in \\mathbb{R}^n$ defines the expected returns for the assets\n",
        "* $\\Sigma \\in \\mathbb{R}^{n \\times n}$ specifies the covariances between the assets\n",
        "* $q > 0$ controls the risk appetite of the decision maker\n",
        "* $B$ denotes the budget, i.e. the available money to spend on assets\n",
        "* $P \\in \\mathbb{R}^n$ represents the price associated with each assets"
      ],
      "id": "KzJBGnsiV-Hs"
    },
    {
      "cell_type": "markdown",
      "metadata": {
        "id": "9GdEG0DBsp8W"
      },
      "source": [
        "Thus this formulation of portfolio optimization problem has **binary** variables, **linear** & **quadratic** terms, and **linear constraints** with **inequalities**."
      ],
      "id": "9GdEG0DBsp8W"
    },
    {
      "cell_type": "markdown",
      "metadata": {
        "id": "a01f5725"
      },
      "source": [
        "# 2. Quadratic Unconstrained Binary Optimization (QUBO)\n",
        "\n",
        "QUBO can help us frame the portfolio optimization problem as a particular optimization problem."
      ],
      "id": "a01f5725"
    },
    {
      "cell_type": "markdown",
      "metadata": {
        "id": "d25904ee"
      },
      "source": [
        "## What is QUBO?\n",
        "**Quadratic Unconstrained Binary Optimization (QUBO)** is an NP-hard optimization problem. Let's parse through QUBO's acronym. \n",
        "\n",
        "* **Quadratic**: terms involved in the equation are up to second order\n",
        "* **Unconstrained**: no conditions on the variable to be optimized (although there can be workarounds on this)\n",
        "* **Binary**: variable to be optimized is a binary vector consisting of 0 and 1"
      ],
      "id": "d25904ee"
    },
    {
      "cell_type": "markdown",
      "metadata": {
        "id": "2c4d0afc"
      },
      "source": [
        "QUBO can be mathematically formalized as follows:\n",
        "$$\\text{Min} \\, y = x^T \\, Q\\, x \\\\\n",
        "\\text{s.t.}  \\; x \\in S$$\n",
        "\n",
        "where\n",
        "* $S$ is a binary discrete set $\\{0, 1\\}^n$ (or $\\{-1, 1\\}^n$ depending on the problem)\n",
        "* $Q$ is an N x N symmetric matrix\n",
        "* $y$ is the function to be optimized, called *objective function*\n",
        "\n",
        "When we have an objective function to maximize, we just multiply the function with -1"
      ],
      "id": "2c4d0afc"
    },
    {
      "cell_type": "markdown",
      "metadata": {
        "id": "1b8ac6c6"
      },
      "source": [
        "## **Q1**:  How do we add constraints?\n",
        "Technically, QUBO does not have constraints on $x$. Fortunately, we can add **penalties**. By adding penalty terms onto the objetive function, it incentives the solver to take into consideration the constraint terms. Thus, this is one part why QUBO is so generalizable.  \n",
        "\n",
        "<img src=\"Visuals/table1-penalty.PNG\">\n",
        "\n",
        "This is a set of common penalties in QUBO problem. "
      ],
      "id": "1b8ac6c6"
    },
    {
      "cell_type": "markdown",
      "metadata": {
        "id": "i7MV9T4-RLDe"
      },
      "source": [
        "### Example"
      ],
      "id": "i7MV9T4-RLDe"
    },
    {
      "cell_type": "markdown",
      "metadata": {
        "id": "StRiRmU0Q62H"
      },
      "source": [
        "Classical constraint of $x + y \\leq 1$ means that $x$ and $y$ both cannot be selected.\n",
        "\n",
        "$$ \\text{Min} \\, y = f(x) + P \\: x y $$\n",
        "\n",
        "Considering that both are binary variables, a penalty term of $ P xy$ has a positive value when the constraint is not met while 0 when it is met. When the quadratic solver minimizes BOTH the objective function $f(x)$ and the penalty term $ P xy$, it will be incentivized to find $x$ that adheres to the constraint."
      ],
      "id": "StRiRmU0Q62H"
    },
    {
      "cell_type": "markdown",
      "metadata": {
        "id": "9a228781"
      },
      "source": [
        "It is more art than science to choose the penalty weight $P$. Depending on the problem, there could be multitude of constraints and we could formulate a QUBO where one constraint has higher weight (and thus higher likelihood that specific constraint would be met than other constraints). \n",
        "* Too big of a $P$ makes the objective function irrelevant.\n",
        "* Too small of a $P$ makes the penalty irrelevant.\n",
        "\n",
        "*Rule of thumb*: 75% to 150% of the objective function (sum of its coefficients). "
      ],
      "id": "9a228781"
    },
    {
      "cell_type": "markdown",
      "metadata": {
        "id": "K49KF-ytRYkb"
      },
      "source": [
        "### Generalization of Constraints"
      ],
      "id": "K49KF-ytRYkb"
    },
    {
      "cell_type": "markdown",
      "metadata": {
        "id": "8be3c780"
      },
      "source": [
        "We can generalize the above constraints to any case of linear constraints. Given a linear constraint $Ax = b$, we an add a quadratic penalty $P(Ax-b)^T(Ax-b)$ to the objective function.\n",
        "\n",
        "$$ y = x^T C x + P (Ax - b)^T (Ax - b) \\\\\n",
        " = x^T C x + x^T D x + c \\\\\n",
        " = x^T Q x + c  $$\n",
        "\n",
        "Note that $D$ and $c$ are resulting matrix and vector from the matrix multiplication. For purposes of minimization, constant $c$ can be dropped. With this, QUBO can encompass linear constraints."
      ],
      "id": "8be3c780"
    },
    {
      "cell_type": "markdown",
      "metadata": {
        "id": "7f7bc85a"
      },
      "source": [
        "## **Q2**: How do we handle inequalities? \n",
        "We introduce **slack variables**. Slack variables fill the gap between the objective function and its upper or lower bounds.\n",
        "\n",
        "For example, suppose that we have a minimization problem as follows:\n",
        "\n",
        "$$\\text{Min} \\, y = 2x_1 + x_2 + x_3 \\\\\n",
        "\\text{s.t.} \\; x_1 + x_2 + x_3 \\leq 5$$"
      ],
      "id": "7f7bc85a"
    },
    {
      "cell_type": "markdown",
      "metadata": {
        "id": "1ad16c9f"
      },
      "source": [
        "We introduce slack variable $s$. \n",
        "\n",
        "$$\n",
        "\\text{Min} \\, y = 2x_1 + x_2 + x_3 \\\\\n",
        "\\text{s.t.} \\; x_1 + x_2 + x_3 + s = 5\n",
        "$$\n",
        "\n",
        "We can calculate the upper bounds of the slack variable by figuring out the LHS's minimum. In this case, when $x_1$, $x_2$, and $x_3$ are 0, $s$ should be at max 5 to satisfy the constraint. "
      ],
      "id": "1ad16c9f"
    },
    {
      "cell_type": "markdown",
      "metadata": {
        "id": "fc285541"
      },
      "source": [
        "Now, $s$ is an integer variable, which we need to convert to a binary variable. We use binary expansion where:\n",
        "\n",
        "$$\\text{min} \\, y = 2x_1 + x_2 + x_3 \\\\\n",
        "\\text{s.t.} \\; x_1 + x_2 + x_3 + 1 s_0 + 2 s_1 + 2 s_2 = 5$$\n",
        "\n",
        "With these set of transformations, we can formulate any quadratic objetive function with linear constraint into QUBO form. "
      ],
      "id": "fc285541"
    },
    {
      "cell_type": "markdown",
      "metadata": {
        "id": "rxJL9jmkXMTG"
      },
      "source": [
        "## Q3. How do we handle linear terms?\n",
        "Binary variables satisfy this property: $x_1$ = $x_1^2$. Basically all linear terms represented in the diagonal elements of $Q$ in $x^T Q x$ equation."
      ],
      "id": "rxJL9jmkXMTG"
    },
    {
      "cell_type": "markdown",
      "metadata": {
        "id": "08f1fb5e"
      },
      "source": [
        "Things to note\n",
        "\n",
        "(1) Think of this conversation between $x_i$ to $\\sigma_i$ as follows:\n",
        "<img src=\"Visuals/figure2-sigma.PNG\">\n",
        "This is due to the fact that while $x_i \\in \\{0, 1\\}$, $\\sigma_i \\in \\{-1, 1\\}$. We have to change the sign of $Z_i$ to align the eigenvalue of 1 to state $|1\\rangle$. \n",
        "\n",
        "(2) The coefficients in the linear terms of the objevtive function are embedded in vector $h$ while the quadratic terms are embedded in matrix $J$. "
      ],
      "id": "08f1fb5e"
    },
    {
      "cell_type": "markdown",
      "metadata": {
        "id": "F0GwFWasSGku"
      },
      "source": [
        "# 3. Quantum Approximate Optimization Algorithm (QAOA)\n",
        "While QUBO has a set of classical solvers (genetic algorithms, ML-based methods, simulated annealing, etc), QUBO could also be formulated as an **Ising Model** to be solved in Quantum Computers. Note that there is **NO** theoretical guarantee that Quantum Computers can accelereate the QUBO problem so this is an active area of research.\n",
        "\n",
        "<img src=\"Visuals/Ising.PNG\">"
      ],
      "id": "F0GwFWasSGku"
    },
    {
      "cell_type": "markdown",
      "metadata": {
        "id": "l0xus2Cp1jy1"
      },
      "source": [
        "## QUBO to Ising Model"
      ],
      "id": "l0xus2Cp1jy1"
    },
    {
      "cell_type": "markdown",
      "metadata": {
        "id": "-wwyxTF8WCHi"
      },
      "source": [
        "Converting QUBO to Ising Model is relatively straightforward.\n",
        "\n",
        "If given QUBO problem:\n",
        "$$f(x) = x^T \\, Q\\, x$$\n",
        "$$= \\sum_{i , j} J_{ij}x_ix_j$$\n",
        "$$= \\sum_{i}^N h_ix_i + \\sum_{i < j} J_{ij}x_ix_j$$\n",
        "\n",
        "we can express this as a corresponding Hamiltonian:\n",
        "\n",
        "$$ H(x_1, x_2,\\dots, x_n) = -\\sum_{i}^N h_i\\sigma^z_i - \\sum_{i < j} J_{ij}\\sigma^z_i\\sigma^z_j,$$\n",
        "\n",
        "where $\\sigma_i$ is $\\left(\\frac{I - Z_i}{2}\\right)$. "
      ],
      "id": "-wwyxTF8WCHi"
    },
    {
      "cell_type": "markdown",
      "metadata": {
        "id": "e1mR_49JyBsP"
      },
      "source": [
        "(1) Think of this conversation between $x_i$ to $\\sigma_i$ as follows:\n",
        "<img src=\"Visuals/figure2-sigma.PNG\">\n",
        "This is due to the fact that while $x_i \\in \\{0, 1\\}$, $\\sigma_i \\in \\{-1, 1\\}$. We have to change the sign of $Z_i$ to align the eigenvalue of 1 to state $|1\\rangle$. \n",
        "\n",
        "(2) The coefficients in the linear terms of the objevtive function are embedded in vector $h$ while the quadratic terms are embedded in matrix $J$. "
      ],
      "id": "e1mR_49JyBsP"
    },
    {
      "cell_type": "markdown",
      "metadata": {
        "id": "KwSxsQrRyYB8"
      },
      "source": [
        "## Recap on Quantum Mechanics: Time Evolution\n",
        "In quantum mechanics, time evolution is given by the Schrodinger equation:\n",
        "\n",
        "$$ i \\hbar \\frac{\\partial }{\\partial t} |\\psi(x,t) \\rangle = \\hat{H} | \\psi (x,t) \\rangle $$\n",
        "\n",
        "The change of the state of quantum system is dictated by the Hamiltonian. It is a linear operator that shows how the system changees through time. Solving this differential equation gives us:\n",
        "\n",
        "$$ |\\psi(x,t) \\rangle = e^{-i \\hat{H} t} | \\psi (x,t) \\rangle $$\n",
        "\n",
        "So far, we have embedded our problem as a Hamiltonian. Let's represent that Hamiltonian as $H_c$ with c meaning \"cost\". If we have a Hamiltonian, we can express a corresponding unitary operator $U(H_c, \\gamma) = e^{-i \\gamma H_c}$"
      ],
      "id": "KwSxsQrRyYB8"
    },
    {
      "cell_type": "markdown",
      "metadata": {
        "id": "BKYmVeUQBrwk"
      },
      "source": [
        "## Recap on Quantum Mechanics: Trotterization\n",
        "Basically discretization of continuous time evolution of the Hamiltonian.\n",
        "\n",
        "<img src=\"Visuals/trot.PNG\">"
      ],
      "id": "BKYmVeUQBrwk"
    },
    {
      "cell_type": "markdown",
      "metadata": {
        "id": "Tk3rjQqY4m94"
      },
      "source": [
        "## Adiabatic Quantum Computation\n",
        "<img src=\"Visuals/AQC.PNG\">\n",
        "\n",
        "Basic idea: Start in a simple state with Hamiltonian $H_s$. Then **slowly** evolve the system so that it reaches our intended state $H_c$."
      ],
      "id": "Tk3rjQqY4m94"
    },
    {
      "cell_type": "markdown",
      "metadata": {
        "id": "sIn3xuCp63px"
      },
      "source": [
        "**Caveat**: Adiabatic Quantum Computation requires a LOT of quantum operations. It is very difficult to implement this on our current devices."
      ],
      "id": "sIn3xuCp63px"
    },
    {
      "cell_type": "markdown",
      "metadata": {
        "id": "BbhIZFi27A7S"
      },
      "source": [
        "## Solution: Quantum Approximate Optimization Algorithm\n",
        "\n",
        "QAOA is a quantum algorithm to solve optimization problems. Think of it as an approximation of Adiabatic Quantum Computation. It's as if we use two unitary operations: $U(H_c, \\gamma)$ and $U(H_b, \\beta)$ to trotterize AQC. We approximate the optimal state by applying both uniary operators $p$ times from the initial state $|\\psi_0\\rangle$. At first, parameters $\\gamma$ and $\\beta$ are random. But we use classical optimizer to finetune these parameters as we lower the measured value.\n",
        "\n",
        "$$|\\psi_{opt}\\rangle = U(H_c, \\gamma) U(H_b, \\beta) \\dots U(H_c, \\gamma) U(H_b, \\beta) |\\psi_0\\rangle $$\n",
        "\n",
        "<img src=\"Visuals/QAOA.PNG\">\n"
      ],
      "id": "BbhIZFi27A7S"
    },
    {
      "cell_type": "markdown",
      "metadata": {
        "id": "Un7U8vTrAdRx"
      },
      "source": [
        ""
      ],
      "id": "Un7U8vTrAdRx"
    },
    {
      "cell_type": "markdown",
      "metadata": {
        "id": "dc884c74"
      },
      "source": [
        "# 4. Qiskit Implementation of Portfolio Optimization Problem\n",
        "\n",
        "Qiskit has both **Optimization** module and **Finance** module. While the finance module has an in-built portfolio optimization object that takes in risk factor, budget, expected returns and covariance as inputs and returns the optimized values, it does NOT allow (1) different assets prices and (2) inequality constraints. \n",
        "\n",
        "Thus, I used the Optimization module to create the extended Portfolio Optimization code that accounts for two cases. Fortunately, the Optimization module offers methods for various transformations needed for this problem. "
      ],
      "id": "dc884c74"
    },
    {
      "cell_type": "markdown",
      "metadata": {
        "id": "eac477a3"
      },
      "source": [
        "The steps taken are:\n",
        "1. Import data to calculate mean & covariance\n",
        "2. Create QUBO problem\n",
        "  1. Formulate a quadratic problem with its objective function ($q$, $\\mu$ and $\\Sigma$)\n",
        "  2. Add linear inequality constraints to QP ($P$ and $B$)\n",
        "  3. Convert inequality constraint into equality constraint with slack variables\n",
        "  4. Convert slack variables into binary variables\n",
        "  5. Convert constraint into a penalty term in objective function (QUBO form)\n",
        "3. Convert QUBO to Ising Model & Hamiltonian\n",
        "4. Perform four methods to solve the optimization problem:\n",
        "    1. Classical Solver\n",
        "    2. VQE\n",
        "    3. QAOA\n",
        "    4. CVaR (extended version of VQE)\n",
        "5. Compare results for each algorithm for different problem input. We change following values:\n",
        "  1. risk factor q\n",
        "  2. budget B\n",
        "  3. number of assets N"
      ],
      "id": "eac477a3"
    },
    {
      "cell_type": "markdown",
      "metadata": {
        "id": "_pmVWtNoiHle"
      },
      "source": [
        "## 0. Install and Import Packages\n",
        "Make sure all code are imported!"
      ],
      "id": "_pmVWtNoiHle"
    },
    {
      "cell_type": "code",
      "metadata": {
        "collapsed": true,
        "id": "2cb88db7",
        "jupyter": {
          "outputs_hidden": true
        },
        "tags": []
      },
      "source": [
        "!pip install qiskit"
      ],
      "id": "2cb88db7",
      "execution_count": null,
      "outputs": []
    },
    {
      "cell_type": "code",
      "metadata": {
        "collapsed": true,
        "id": "8c5b2fde",
        "jupyter": {
          "outputs_hidden": true
        },
        "tags": []
      },
      "source": [
        "!pip install qiskit_optimization"
      ],
      "id": "8c5b2fde",
      "execution_count": null,
      "outputs": []
    },
    {
      "cell_type": "code",
      "metadata": {
        "collapsed": true,
        "id": "c6cd5695-7708-4f65-ad97-c64b2091820a",
        "jupyter": {
          "outputs_hidden": true
        },
        "tags": []
      },
      "source": [
        "!pip install qiskit_finance"
      ],
      "id": "c6cd5695-7708-4f65-ad97-c64b2091820a",
      "execution_count": null,
      "outputs": []
    },
    {
      "cell_type": "code",
      "metadata": {
        "id": "4fa50200",
        "tags": []
      },
      "source": [
        "from qiskit.circuit.library import RealAmplitudes\n",
        "from qiskit.algorithms.optimizers import COBYLA\n",
        "from qiskit.algorithms import NumPyMinimumEigensolver, VQE\n",
        "from qiskit.opflow import PauliExpectation, CVaRExpectation\n",
        "from qiskit_optimization import QuadraticProgram\n",
        "from qiskit_optimization.converters import LinearEqualityToPenalty, InequalityToEquality, IntegerToBinary\n",
        "from qiskit_optimization.algorithms import MinimumEigenOptimizer\n",
        "from qiskit import execute, Aer\n",
        "from qiskit.utils import algorithm_globals\n",
        "from qiskit import BasicAer\n",
        "from qiskit.aqua import aqua_globals, QuantumInstance\n",
        "from qiskit.algorithms import QAOA, NumPyMinimumEigensolver, VQE\n",
        "from qiskit.circuit.library import TwoLocal\n",
        "from qiskit.aqua.components.optimizers import SPSA\n",
        "from qiskit import IBMQ\n",
        "import numpy as np\n",
        "import matplotlib.pyplot as plt\n",
        "from docplex.mp.model import Model\n",
        "\n",
        "from qiskit_finance.data_providers import *\n",
        "from qiskit_finance import QiskitFinanceError\n",
        "import warnings\n",
        "warnings.filterwarnings(\"ignore\", category=DeprecationWarning)\n",
        "import datetime"
      ],
      "id": "4fa50200",
      "execution_count": null,
      "outputs": []
    },
    {
      "cell_type": "markdown",
      "metadata": {
        "id": "78c1b87d-959d-40d4-8506-a990de05e316"
      },
      "source": [
        "## 1. Import data to calculate mean & covariance\n",
        "\n",
        "We can either use real stock data or generate artificial data."
      ],
      "id": "78c1b87d-959d-40d4-8506-a990de05e316"
    },
    {
      "cell_type": "code",
      "metadata": {
        "id": "db878830",
        "tags": []
      },
      "source": [
        "## Import Stock Data\n",
        "stocks = [\"AAPL\", \"UAL\", \"TSLA\", \"AMD\", \"IBM\", \"ATVI\", \"ADBE\", \"AMZN\"]\n",
        "\n",
        "def get_real_data(n, visual=True):\n",
        "    stocks_n = stocks[:n]\n",
        "    try:\n",
        "        wiki = YahooDataProvider(\n",
        "                         tickers = stocks_n,\n",
        "                         start = datetime.datetime(2020,3,1),\n",
        "                         end = datetime.datetime(2020,4,1))\n",
        "        wiki.run()\n",
        "    except QiskitFinanceError as ex:\n",
        "        print(ex)\n",
        "        print(\"Error retrieving data.\")\n",
        "    \n",
        "    if wiki._data and visual:\n",
        "        print(\"The underlying evolution of stock prices:\")\n",
        "        for (cnt, s) in enumerate(stocks_n):\n",
        "            plt.plot(wiki._data[cnt], label=s)\n",
        "        plt.legend()\n",
        "        plt.xticks(rotation=90)\n",
        "        plt.show()\n",
        "    if wiki._n > 1 and visual:\n",
        "        cov = wiki.get_covariance_matrix()\n",
        "        print(\"A covariance matrix:\")\n",
        "        print(cov)\n",
        "        plt.imshow(cov)\n",
        "        plt.show()\n",
        "\n",
        "    mu = wiki.get_mean_vector()\n",
        "    sigma = wiki.get_covariance_matrix()\n",
        "    \n",
        "    return mu, sigma"
      ],
      "id": "db878830",
      "execution_count": null,
      "outputs": []
    },
    {
      "cell_type": "code",
      "metadata": {
        "id": "141b2963-a305-4879-8322-a65342f99daf"
      },
      "source": [
        "def get_fake_data(n, visual):\n",
        "        sigma = np.random.uniform(-3,3,[n,n])\n",
        "        mu = np.random.sample(n) * 5 + 1\n",
        "        if visual:\n",
        "            print(sigma)\n",
        "            plt.imshow(sigma)\n",
        "            plt.show()\n",
        "        return mu, sigma"
      ],
      "id": "141b2963-a305-4879-8322-a65342f99daf",
      "execution_count": null,
      "outputs": []
    },
    {
      "cell_type": "markdown",
      "metadata": {
        "id": "4kZUjohCceVB"
      },
      "source": [
        "We can see the results of real stock price and its corresponding covariance matrix."
      ],
      "id": "4kZUjohCceVB"
    },
    {
      "cell_type": "code",
      "metadata": {
        "colab": {
          "base_uri": "https://localhost:8080/",
          "height": 763
        },
        "id": "5f185830-2364-4f15-89c0-13fdaa6d282f",
        "outputId": "9fe5dc87-6c3b-4697-e1e0-f5b75b26a149"
      },
      "source": [
        "get_real_data(n=4, visual=True)"
      ],
      "id": "5f185830-2364-4f15-89c0-13fdaa6d282f",
      "execution_count": null,
      "outputs": [
        {
          "name": "stdout",
          "output_type": "stream",
          "text": [
            "The underlying evolution of stock prices:\n"
          ]
        },
        {
          "data": {
            "image/png": "[encoded data removed]",
            "text/plain": [
              "<Figure size 432x288 with 1 Axes>"
            ]
          },
          "metadata": {
            "needs_background": "light",
            "tags": []
          },
          "output_type": "display_data"
        },
        {
          "name": "stdout",
          "output_type": "stream",
          "text": [
            "A covariance matrix:\n",
            "[[ 31.9925663   64.89204076 122.59788804  14.01789432]\n",
            " [ 64.89204076 156.0590341  287.40000396  28.77659694]\n",
            " [122.59788804 287.40000396 568.75331423  61.88289175]\n",
            " [ 14.01789432  28.77659694  61.88289175  12.43027577]]\n"
          ]
        },
        {
          "data": {
            "image/png": "[encoded data removed]",
            "text/plain": [
              "<Figure size 432x288 with 1 Axes>"
            ]
          },
          "metadata": {
            "needs_background": "light",
            "tags": []
          },
          "output_type": "display_data"
        },
        {
          "data": {
            "text/plain": [
              "(array([ 64.99594706,  39.51636358, 111.82027297,  44.42409117]),\n",
              " array([[ 31.9925663 ,  64.89204076, 122.59788804,  14.01789432],\n",
              "        [ 64.89204076, 156.0590341 , 287.40000396,  28.77659694],\n",
              "        [122.59788804, 287.40000396, 568.75331423,  61.88289175],\n",
              "        [ 14.01789432,  28.77659694,  61.88289175,  12.43027577]]))"
            ]
          },
          "execution_count": 9,
          "metadata": {
            "tags": []
          },
          "output_type": "execute_result"
        }
      ]
    },
    {
      "cell_type": "markdown",
      "metadata": {
        "id": "nhlLqaTxcl2Y"
      },
      "source": [
        "Or we can generate fake one. It does not matter."
      ],
      "id": "nhlLqaTxcl2Y"
    },
    {
      "cell_type": "code",
      "metadata": {
        "colab": {
          "base_uri": "https://localhost:8080/",
          "height": 431
        },
        "id": "YApZkZRtco8g",
        "outputId": "ee2ba340-b110-4a61-89d0-a6e00c44eb8b"
      },
      "source": [
        "get_fake_data(4, True)"
      ],
      "id": "YApZkZRtco8g",
      "execution_count": null,
      "outputs": [
        {
          "name": "stdout",
          "output_type": "stream",
          "text": [
            "[[ 0.93156609  2.22705539  2.29598478 -1.06842878]\n",
            " [-0.25331948 -2.19315401 -0.5430922  -0.74236498]\n",
            " [-2.40628773  2.01571374 -2.58599029  0.54585979]\n",
            " [ 0.35807234 -0.76523101 -1.95772639  1.28958052]]\n"
          ]
        },
        {
          "data": {
            "image/png": "[encoded data removed]",
            "text/plain": [
              "<Figure size 432x288 with 1 Axes>"
            ]
          },
          "metadata": {
            "needs_background": "light",
            "tags": []
          },
          "output_type": "display_data"
        },
        {
          "data": {
            "text/plain": [
              "(array([5.81753927, 5.75791413, 3.61205287, 5.75233648]),\n",
              " array([[ 0.93156609,  2.22705539,  2.29598478, -1.06842878],\n",
              "        [-0.25331948, -2.19315401, -0.5430922 , -0.74236498],\n",
              "        [-2.40628773,  2.01571374, -2.58599029,  0.54585979],\n",
              "        [ 0.35807234, -0.76523101, -1.95772639,  1.28958052]]))"
            ]
          },
          "execution_count": 10,
          "metadata": {
            "tags": []
          },
          "output_type": "execute_result"
        }
      ]
    },
    {
      "cell_type": "markdown",
      "metadata": {
        "id": "6ESO4e1_dBMe"
      },
      "source": [
        "## 2. Create QUBO Problem"
      ],
      "id": "6ESO4e1_dBMe"
    },
    {
      "cell_type": "markdown",
      "metadata": {
        "id": "fIEAhJvUhBEq"
      },
      "source": [
        "Qiskit Optimization provides native ways to formulate a QUBO problem. We will follow the steps above exactly."
      ],
      "id": "fIEAhJvUhBEq"
    },
    {
      "cell_type": "code",
      "metadata": {
        "id": "1bd4c220-106c-4553-bdad-0f241ff46aa4"
      },
      "source": [
        "def create_prices(n):\n",
        "  prices = [np.random.randint(1, 6) for _ in range(n)]\n",
        "  return prices\n",
        "\n",
        "def create_qubo(q, n, dB, stocks, mu, sigma, prices, verbose=False):\n",
        "  price_dict = {stock:price for stock, price in zip(stocks, prices)} \n",
        "  budget = int(sum(prices) / 2) + dB\n",
        "\n",
        "  # make QP\n",
        "  mod = QuadraticProgram('portfolio-optimization')\n",
        "  for stock in stocks:\n",
        "    mod.binary_var(stock)\n",
        "  mod.minimize(linear=-mu, quadratic=q*sigma)\n",
        "  mod.linear_constraint(linear=price_dict, sense='<=', rhs=budget, name='budget')\n",
        "\n",
        "  # make QUBO\n",
        "  ineq2eq = InequalityToEquality()\n",
        "  mod1 = ineq2eq.convert(mod)\n",
        "\n",
        "  int2bin = IntegerToBinary()\n",
        "  mod2 = int2bin.convert(mod1)\n",
        "\n",
        "  lineq2penalty = LinearEqualityToPenalty()\n",
        "  qubo = lineq2penalty.convert(mod2)\n",
        "\n",
        "  if verbose:\n",
        "    print(\"QUBO Problem statement\")\n",
        "    print(qubo)\n",
        "  \n",
        "  return qubo"
      ],
      "id": "1bd4c220-106c-4553-bdad-0f241ff46aa4",
      "execution_count": null,
      "outputs": []
    },
    {
      "cell_type": "markdown",
      "metadata": {
        "id": "Y9eRwkdyg9_-"
      },
      "source": [
        "Now let's try to see if this works."
      ],
      "id": "Y9eRwkdyg9_-"
    },
    {
      "cell_type": "code",
      "metadata": {
        "colab": {
          "base_uri": "https://localhost:8080/"
        },
        "id": "0e741c1d-e7ec-4502-9508-e54053e5859b",
        "outputId": "9105b068-3727-4269-e7d6-c765fabc01cf"
      },
      "source": [
        "q = 1\n",
        "n = 4\n",
        "dB = 0\n",
        "stocks_n = stocks[:n]\n",
        "\n",
        "mu, sigma = get_fake_data(n, False)\n",
        "prices = create_prices(n)\n",
        "\n",
        "qubo = create_qubo(q, n, dB, stocks, mu, sigma, prices, True)"
      ],
      "id": "0e741c1d-e7ec-4502-9508-e54053e5859b",
      "execution_count": null,
      "outputs": [
        {
          "name": "stdout",
          "output_type": "stream",
          "text": [
            "QUBO Problem statement\n",
            "\\ This file has been generated by DOcplex\n",
            "\\ ENCODING=ISO-8859-1\n",
            "\\Problem name: portfolio-optimization\n",
            "\n",
            "Minimize\n",
            " obj: - 524.127737833066 AAPL - 350.558401140119 UAL - 175.182806808842 TSLA\n",
            "      - 524.384042560210 AMD - 174.035458018464 budget@int_slack@0\n",
            "      - 348.070916036927 budget@int_slack@1\n",
            "      - 174.035458018464 budget@int_slack@2 + [ 391.836266846014 AAPL^2\n",
            "      + 520.185756293370 AAPL*UAL + 268.432729525701 AAPL*TSLA\n",
            "      + 777.998489953516 AAPL*AMD + 261.053187027696 AAPL*budget@int_slack@0\n",
            "      + 522.106374055391 AAPL*budget@int_slack@1\n",
            "      + 261.053187027696 AAPL*budget@int_slack@2 + 176.036938956814 UAL^2\n",
            "      + 174.430753694364 UAL*TSLA + 520.514194281148 UAL*AMD\n",
            "      + 174.035458018464 UAL*budget@int_slack@0\n",
            "      + 348.070916036927 UAL*budget@int_slack@1\n",
            "      + 174.035458018464 UAL*budget@int_slack@2 + 40.838735996615 TSLA^2\n",
            "      + 262.101198503554 TSLA*AMD + 87.017729009232 TSLA*budget@int_slack@0\n",
            "      + 174.035458018464 TSLA*budget@int_slack@1\n",
            "      + 87.017729009232 TSLA*budget@int_slack@2 + 388.363462455475 AMD^2\n",
            "      + 261.053187027696 AMD*budget@int_slack@0\n",
            "      + 522.106374055391 AMD*budget@int_slack@1\n",
            "      + 261.053187027696 AMD*budget@int_slack@2\n",
            "      + 43.508864504616 budget@int_slack@0^2\n",
            "      + 174.035458018464 budget@int_slack@0*budget@int_slack@1\n",
            "      + 87.017729009232 budget@int_slack@0*budget@int_slack@2\n",
            "      + 174.035458018464 budget@int_slack@1^2\n",
            "      + 174.035458018464 budget@int_slack@1*budget@int_slack@2\n",
            "      + 43.508864504616 budget@int_slack@2^2 ]/2 + 348.070916036927\n",
            "Subject To\n",
            "\n",
            "Bounds\n",
            " 0 <= AAPL <= 1\n",
            " 0 <= UAL <= 1\n",
            " 0 <= TSLA <= 1\n",
            " 0 <= AMD <= 1\n",
            " 0 <= IBM <= 1\n",
            " 0 <= ATVI <= 1\n",
            " 0 <= ADBE <= 1\n",
            " 0 <= AMZN <= 1\n",
            " 0 <= budget@int_slack@0 <= 1\n",
            " 0 <= budget@int_slack@1 <= 1\n",
            " 0 <= budget@int_slack@2 <= 1\n",
            "\n",
            "Binaries\n",
            " AAPL UAL TSLA AMD IBM ATVI ADBE AMZN budget@int_slack@0 budget@int_slack@1\n",
            " budget@int_slack@2\n",
            "End\n",
            "\n"
          ]
        }
      ]
    },
    {
      "cell_type": "markdown",
      "metadata": {
        "id": "XUkcFTLfhNoo"
      },
      "source": [
        "Note how all the variables are binary, how there is no constraint, and there are slack variables. The reason why we randomly generated smaller integer budgets and prices is because having a large budget meant more extraneous slack variables. While not a huge concern if we use classical optimizer, if using quantum optimization methods we would use precious qubits and that is a waste of resources."
      ],
      "id": "XUkcFTLfhNoo"
    },
    {
      "cell_type": "markdown",
      "metadata": {
        "id": "Is13nxR9h1HX"
      },
      "source": [
        "## 3. Convert QUBO to Ising Model\n",
        "Same as above, Qiskit Optimization provides native method to do that."
      ],
      "id": "Is13nxR9h1HX"
    },
    {
      "cell_type": "code",
      "metadata": {
        "id": "SISM4LOlgPar"
      },
      "source": [
        "ising, offset = qubo.to_ising()"
      ],
      "id": "SISM4LOlgPar",
      "execution_count": null,
      "outputs": []
    },
    {
      "cell_type": "markdown",
      "metadata": {
        "id": "GEaJal23iC6V"
      },
      "source": [
        "## 4. Perform four methods to solve the optimization problem\n",
        "  1. Classical Solver\n",
        "  2. VQE\n",
        "  3. QAOA\n",
        "  4. CVaR (extended version of VQE)"
      ],
      "id": "GEaJal23iC6V"
    },
    {
      "cell_type": "code",
      "metadata": {
        "id": "Wy89tcGOiPHB"
      },
      "source": [
        "algorithms = [\"exact\", \"vqe\", \"qaoa\", \"cvar\"]\n",
        "def run_trial(qubo, ising):\n",
        "  results = {algo: 0 for algo in algorithms}\n",
        "\n",
        "  # exact\n",
        "  exact_result = MinimumEigenOptimizer(NumPyMinimumEigensolver()).solve(qubo)\n",
        "  results[\"exact\"] = exact_result\n",
        "\n",
        "  # VQE\n",
        "  maxiter = 100\n",
        "  counts = 1024\n",
        "  optimizer = COBYLA(maxiter=maxiter)\n",
        "  backend_name = 'qasm_simulator'\n",
        "  backend=Aer.get_backend(backend_name)\n",
        "  ry = TwoLocal(ising.num_qubits, 'ry', 'cz', reps=3, entanglement='full')\n",
        "  vqe_mes = VQE(ansatz=ry, optimizer=optimizer, quantum_instance=backend)\n",
        "  vqe_result = MinimumEigenOptimizer(vqe_mes).solve(qubo)\n",
        "  results[\"vqe\"]=(vqe_result)  \n",
        "\n",
        "  # qaoa\n",
        "  qaoa_mes = QAOA(quantum_instance = backend, initial_point=[0., 0.])\n",
        "  qaoa = MinimumEigenOptimizer(qaoa_mes)   # using QAOA\n",
        "  qaoa_result = qaoa.solve(qubo)\n",
        "  results[\"qaoa\"]=qaoa_result\n",
        "\n",
        "  # cvar\n",
        "  alpha = 0.25\n",
        "  cvar_exp = CVaRExpectation(alpha, PauliExpectation())\n",
        "  cvar_exp.compute_variance = lambda x: [0]\n",
        "  ansatz = RealAmplitudes(n, reps=1)\n",
        "  cvar_mes = VQE(expectation=cvar_exp, optimizer=optimizer, ansatz=ansatz, quantum_instance=backend)  \n",
        "  cvar = MinimumEigenOptimizer(cvar_mes)\n",
        "  cvar_result = cvar.solve(qubo)\n",
        "  results[\"cvar\"] = cvar_result\n",
        "\n",
        "  return results"
      ],
      "id": "Wy89tcGOiPHB",
      "execution_count": null,
      "outputs": []
    },
    {
      "cell_type": "markdown",
      "metadata": {
        "id": "rA7K76KipbEB"
      },
      "source": [
        "Let's give this a try!"
      ],
      "id": "rA7K76KipbEB"
    },
    {
      "cell_type": "code",
      "metadata": {
        "colab": {
          "base_uri": "https://localhost:8080/"
        },
        "id": "WyZKfH7WmsoB",
        "outputId": "cfe62c24-979c-487c-eeb4-8a40c2f68d1d"
      },
      "source": [
        "run_trial(qubo, ising)"
      ],
      "id": "WyZKfH7WmsoB",
      "execution_count": null,
      "outputs": [
        {
          "data": {
            "text/plain": [
              "{'cvar': optimal function value: -3.885827547852614\n",
              " optimal value: [0. 0. 0. 1. 0. 0. 1. 1. 1. 0. 0.]\n",
              " status: SUCCESS, 'exact': optimal function value: -5.8442348543016465\n",
              " optimal value: [0. 0. 1. 1. 0. 0. 1. 1. 0. 0. 0.]\n",
              " status: SUCCESS, 'qaoa': optimal function value: -5.8442348543016465\n",
              " optimal value: [0. 0. 1. 1. 0. 1. 0. 0. 0. 0. 0.]\n",
              " status: SUCCESS, 'vqe': optimal function value: -5.8442348543016465\n",
              " optimal value: [0. 0. 1. 1. 1. 1. 1. 1. 0. 0. 0.]\n",
              " status: SUCCESS}"
            ]
          },
          "execution_count": 16,
          "metadata": {
            "tags": []
          },
          "output_type": "execute_result"
        }
      ]
    },
    {
      "cell_type": "markdown",
      "metadata": {
        "id": "rlFCxEwApeB8"
      },
      "source": [
        "Seems like for n=4 case, all three quantum algorithms adhere to the classical result. I will assume that the classical result is the global minimum."
      ],
      "id": "rlFCxEwApeB8"
    },
    {
      "cell_type": "markdown",
      "metadata": {
        "id": "i1Rf_dm0p3Vs"
      },
      "source": [
        "## 5. Compare results for each algorithm for different problem input\n",
        "\n",
        "We vary the input to see which algorithm would respond to which situations."
      ],
      "id": "i1Rf_dm0p3Vs"
    },
    {
      "cell_type": "markdown",
      "metadata": {
        "id": "i8PuI7UVqCBQ"
      },
      "source": [
        "## (a) Changing Budget\n",
        "Before, we calculated the budget as being the mean of all the prices. Now, we have this variable dB that can modulate from the mean."
      ],
      "id": "i8PuI7UVqCBQ"
    },
    {
      "cell_type": "code",
      "metadata": {
        "id": "axrvheTkmula"
      },
      "source": [
        "labels = [\"exact\", \"vqe\", \"qaoa\", \"cvar\"]\n",
        "\n",
        "q = 1\n",
        "n = 5\n",
        "dB = 0\n",
        "\n",
        "stocks_n = stocks[:n]"
      ],
      "id": "axrvheTkmula",
      "execution_count": null,
      "outputs": []
    },
    {
      "cell_type": "code",
      "metadata": {
        "id": "QiTA8Pf9wOXY"
      },
      "source": [
        "mu, sigma = get_fake_data(n, False)\n",
        "prices = create_prices(n)"
      ],
      "id": "QiTA8Pf9wOXY",
      "execution_count": null,
      "outputs": []
    },
    {
      "cell_type": "code",
      "metadata": {
        "id": "ZXzLVmPesUcq"
      },
      "source": [
        "dB_list = [-2, -1, 0, 1, 2]\n",
        "\n",
        "data = {label: [] for label in labels}\n",
        "for index, dB in enumerate(dB_list):\n",
        "  qubo = create_qubo(q, n, dB, stocks, mu, sigma, prices, False)\n",
        "  ising, offset = qubo.to_ising()\n",
        "  results = run_trial(qubo, ising)\n",
        "  for label, result in results.items():\n",
        "    data[label].append(result.fval)"
      ],
      "id": "ZXzLVmPesUcq",
      "execution_count": null,
      "outputs": []
    },
    {
      "cell_type": "code",
      "metadata": {
        "colab": {
          "base_uri": "https://localhost:8080/",
          "height": 281
        },
        "id": "DrGKbe0wroxE",
        "outputId": "6dcc410d-ef53-492b-c955-96bf96b3aa23"
      },
      "source": [
        "plt.title(\"Change of Minimum Value as Budget Increases\")\n",
        "budget = [b + sum(prices) for b in dB_list]\n",
        "for label in labels:\n",
        "  if label == \"exact\":\n",
        "    plt.plot(budget, data[label], 'r--', linewidth=2, label=label)\n",
        "  else:\n",
        "    plt.plot(budget, data[label], label=label)\n",
        "plt.legend()\n",
        "plt.show()"
      ],
      "id": "DrGKbe0wroxE",
      "execution_count": null,
      "outputs": [
        {
          "data": {
            "image/png": "[encoded data removed]",
            "text/plain": [
              "<Figure size 432x288 with 1 Axes>"
            ]
          },
          "metadata": {
            "needs_background": "light",
            "tags": []
          },
          "output_type": "display_data"
        }
      ]
    },
    {
      "cell_type": "markdown",
      "metadata": {
        "id": "pe7I4GO8ncaP"
      },
      "source": [
        "## (b) Changing Risk Factor\n",
        "We change the risk factor q. "
      ],
      "id": "pe7I4GO8ncaP"
    },
    {
      "cell_type": "code",
      "metadata": {
        "id": "1IO8c7o4ngAx"
      },
      "source": [
        "q_list = np.linspace(0.1, 1.9, num=10)\n",
        "data_q = {label: [] for label in labels}\n",
        "\n",
        "for index, q in enumerate(q_list):\n",
        "  qubo = create_qubo(q, n, dB, stocks, mu, sigma, prices, False)\n",
        "  ising, offset = qubo.to_ising()\n",
        "  results_q = run_trial(qubo, ising)\n",
        "  for label, result in results_q.items():\n",
        "        data_q[label].append(result.fval)"
      ],
      "id": "1IO8c7o4ngAx",
      "execution_count": null,
      "outputs": []
    },
    {
      "cell_type": "code",
      "metadata": {
        "colab": {
          "base_uri": "https://localhost:8080/",
          "height": 281
        },
        "id": "wyuihiA0pWtL",
        "outputId": "a0dd047e-ef91-4e44-9569-f6532b479b90"
      },
      "source": [
        "plt.title(\"Change of Minimum Value as Risk Factor Increases\")\n",
        "\n",
        "for label in labels:\n",
        "  if label == \"exact\":\n",
        "    plt.plot(q_list, data_q[label], 'r--', linewidth=2, label=label)\n",
        "  else:\n",
        "    plt.plot(q_list, data_q[label], label=label)\n",
        "plt.legend()\n",
        "plt.show()"
      ],
      "id": "wyuihiA0pWtL",
      "execution_count": null,
      "outputs": [
        {
          "data": {
            "image/png": "[encoded data removed]",
            "text/plain": [
              "<Figure size 432x288 with 1 Axes>"
            ]
          },
          "metadata": {
            "needs_background": "light",
            "tags": []
          },
          "output_type": "display_data"
        }
      ]
    },
    {
      "cell_type": "markdown",
      "metadata": {
        "id": "3U3UHIBspnI-"
      },
      "source": [
        "## (c) Changing Number of Assets"
      ],
      "id": "3U3UHIBspnI-"
    },
    {
      "cell_type": "code",
      "metadata": {
        "id": "XB8hedcwpqeH"
      },
      "source": [
        "n_list = [4, 5, 6, 7, 8]\n",
        "data_n = {label: [] for label in labels}\n",
        "for index, n in enumerate(n_list):\n",
        "  qubo = create_qubo(q, n, dB, stocks, mu, sigma, prices, False)\n",
        "  ising, offset = qubo.to_ising()\n",
        "  results_n = run_trial(qubo, ising)\n",
        "  for label, result in results_n.items():\n",
        "        data_n[label].append(result.fval)"
      ],
      "id": "XB8hedcwpqeH",
      "execution_count": null,
      "outputs": []
    },
    {
      "cell_type": "code",
      "metadata": {
        "colab": {
          "base_uri": "https://localhost:8080/",
          "height": 281
        },
        "id": "QtaF56LQzxRt",
        "outputId": "5630ec6f-598f-4f07-e63d-fe30dc61eecd"
      },
      "source": [
        "plt.title(\"Change of Minimum Value as Number of Assets Increases\")\n",
        "\n",
        "for label in labels:\n",
        "  if label == \"exact\":\n",
        "    plt.plot(n_list, data_n[label], 'r--', linewidth=2, label=label)\n",
        "  else:\n",
        "    plt.plot(n_list, data_n[label], label=label)\n",
        "plt.legend()\n",
        "plt.show()"
      ],
      "id": "QtaF56LQzxRt",
      "execution_count": null,
      "outputs": [
        {
          "data": {
            "image/png": "[encoded data removed]",
            "text/plain": [
              "<Figure size 432x288 with 1 Axes>"
            ]
          },
          "metadata": {
            "needs_background": "light",
            "tags": []
          },
          "output_type": "display_data"
        }
      ]
    },
    {
      "cell_type": "markdown",
      "metadata": {
        "id": "60edf66a"
      },
      "source": [
        "# 6. Conclusion\n",
        "\n",
        "*   More of PoC rather than applicable in real-use.\n",
        "\n",
        "*   There is **NO** theoretical justification that quantum computers are faster than classical computers when it comes to optimization problems, unlike other problems like prime factorization. \n",
        "\n",
        "\n",
        "*   Currently, quantum computers lack both the scale and the accuracy compared to classical computers, especially in the field of QUBO.\n",
        "\n",
        "\n",
        "*   QAOA is a hybrid quantum algorithm in that it uses a classical optimizer. \n",
        "\n",
        "\n",
        "\n",
        "\n",
        "\n",
        "\n",
        "\n",
        "\n"
      ],
      "id": "60edf66a"
    }
  ]
}