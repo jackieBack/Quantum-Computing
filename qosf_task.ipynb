{
  "nbformat": 4,
  "nbformat_minor": 0,
  "metadata": {
    "colab": {
      "name": "qosf_task.ipynb",
      "provenance": [],
      "authorship_tag": "ABX9TyOrVL2U/ybi95aXbmWKpC/8"
    },
    "kernelspec": {
      "name": "python3",
      "display_name": "Python 3"
    },
    "language_info": {
      "name": "python"
    }
  },
  "cells": [
    {
      "cell_type": "markdown",
      "metadata": {
        "id": "sPqT5auKhjPe"
      },
      "source": [
        "# Task 2: Implementing Quantum Variational Circuits\n",
        "by Beom Joon Baek"
      ]
    },
    {
      "cell_type": "code",
      "metadata": {
        "id": "DIK_eZfCjeLa"
      },
      "source": [
        "!pip install pennylane"
      ],
      "execution_count": null,
      "outputs": []
    },
    {
      "cell_type": "code",
      "metadata": {
        "id": "sQlnrur1jidY"
      },
      "source": [
        "!pip install torch"
      ],
      "execution_count": 3,
      "outputs": []
    },
    {
      "cell_type": "code",
      "metadata": {
        "id": "fqKU1UvSjE6A"
      },
      "source": [
        "import pennylane as qml\n",
        "import numpy as np\n",
        "import torch\n",
        "from torch.autograd import Variable\n",
        "import matplotlib.pyplot as plt"
      ],
      "execution_count": 4,
      "outputs": []
    },
    {
      "cell_type": "markdown",
      "metadata": {
        "id": "PMyzO7X0EIQf"
      },
      "source": [
        "For this task, we will be using Pennylane's default qubit simulator to simulate four 4-qubit quantum states. We will also be using Pytorch to run both the backpropagation and the classical ADAM optimizer. "
      ]
    },
    {
      "cell_type": "code",
      "metadata": {
        "id": "ap8SV9YnhZb2"
      },
      "source": [
        "# Prepare the Device\n",
        "dev = qml.device('default.qubit', wires = 4)"
      ],
      "execution_count": 52,
      "outputs": []
    },
    {
      "cell_type": "markdown",
      "metadata": {
        "id": "G3czyK9di-Nq"
      },
      "source": [
        "## 1. Preparation"
      ]
    },
    {
      "cell_type": "markdown",
      "metadata": {
        "id": "Q3TmSZDIE6iJ"
      },
      "source": [
        "As I understand the task, there are total 16 qubits as part of the initial state (4 random state x 4 qubits). We can store the entire initial configurations in the `initial_state` tensor. We will represent the random initial qubit as a coordinate on block sphere parameterized by three rotational angles.\n"
      ]
    },
    {
      "cell_type": "code",
      "metadata": {
        "id": "E2a-mU71jl1A"
      },
      "source": [
        "# Initialize Variables\n",
        "num_inputs = 4\n",
        "num_qubits = 4\n",
        " \n",
        "initial_state = np.random.normal(0, np.pi/2, (num_inputs, num_qubits, 3))\n",
        "initial_state = Variable(torch.tensor(initial_state), requires_grad=False)"
      ],
      "execution_count": 53,
      "outputs": []
    },
    {
      "cell_type": "markdown",
      "metadata": {
        "id": "tWWss9RgHK-n"
      },
      "source": [
        "We can check the `initial_state` and its dimensions."
      ]
    },
    {
      "cell_type": "code",
      "metadata": {
        "colab": {
          "base_uri": "https://localhost:8080/"
        },
        "id": "ICJMJ6sZCnuX",
        "outputId": "43e0e783-9c6b-4ad6-9278-413409726cf6"
      },
      "source": [
        "print(\"Dimensions: \" + str(initial_state.size()))\n",
        "print(initial_state[0])"
      ],
      "execution_count": 54,
      "outputs": [
        {
          "output_type": "stream",
          "name": "stdout",
          "text": [
            "Dimensions: torch.Size([4, 4, 3])\n",
            "tensor([[ 0.9477, -0.4696,  1.6892],\n",
            "        [-3.2567, -0.8193, -0.9658],\n",
            "        [-0.9722,  0.6656, -0.7870],\n",
            "        [-1.3500,  1.4013, -0.1158]], dtype=torch.float64)\n"
          ]
        }
      ]
    },
    {
      "cell_type": "markdown",
      "metadata": {
        "id": "SR09jGtGFh8J"
      },
      "source": [
        "Every layer in the variational circuit will be a Strongly Entangling Layer, as shown here: ![Image of StronglyEntanglingLayers](https://pennylane.readthedocs.io/en/stable/_images/layer_sec.png)\n",
        "\n",
        "Each layer of `weights` tensor has twelve parameters (three per each qubit representing its rotations). \n"
      ]
    },
    {
      "cell_type": "code",
      "metadata": {
        "id": "I8yrDE4zFhP6"
      },
      "source": [
        "num_layers = 5\n",
        "\n",
        "weights = np.random.normal(0, np.pi/2, (num_layers, num_qubits, 3))\n",
        "weights = Variable(torch.tensor(weights), requires_grad=True) "
      ],
      "execution_count": 95,
      "outputs": []
    },
    {
      "cell_type": "markdown",
      "metadata": {
        "id": "HK_jiiSaIYff"
      },
      "source": [
        "Finally, we know what the expected outputs are. We will store them in `expected_outputs` tensor. Note that the ground state is represented as -1 here."
      ]
    },
    {
      "cell_type": "code",
      "metadata": {
        "id": "IV-FDNJCIY-v"
      },
      "source": [
        "expected_outputs = np.array(\n",
        "    [[-1, -1, 1, 1],\n",
        "     [-1, 1, -1, 1],\n",
        "     [1, -1, 1, -1],\n",
        "     [1, 1, -1, -1]\n",
        "     ])\n",
        "\n",
        "expected_outputs = Variable(torch.tensor(expected_outputs), requires_grad=False)"
      ],
      "execution_count": 85,
      "outputs": []
    },
    {
      "cell_type": "markdown",
      "metadata": {
        "id": "807o3BX_IiFH"
      },
      "source": [
        "## 2. Circuit Design"
      ]
    },
    {
      "cell_type": "markdown",
      "metadata": {
        "id": "b9Ig81-BIqLx"
      },
      "source": [
        "We implement the variational circuit for Strongly Entangling Layer. "
      ]
    },
    {
      "cell_type": "code",
      "metadata": {
        "id": "dHCXpCt4y-ha"
      },
      "source": [
        "def layer(W):\n",
        "    for i in range(num_qubits):\n",
        "      qml.Rot(W[i, 0], W[i, 1], W[i, 2], wires=i)\n",
        "\n",
        "    for j in range(num_qubits):\n",
        "      qml.CNOT(wires=[j, (j+1) % 4])\n",
        "\n",
        "@qml.qnode(dev, interface=\"torch\")\n",
        "def circuit(weights, input_index):\n",
        "\n",
        "    init = initial_state[input_index]\n",
        "\n",
        "    # Initialize input state\n",
        "    for i in range(num_qubits):\n",
        "      qml.Rot(init[i, 0], init[i, 1], init[i, 2], wires=i)\n",
        "\n",
        "    for i in range(num_layers):\n",
        "        layer(weights[i])\n",
        "\n",
        "    return [qml.expval(qml.PauliZ(i)) for i in range(num_qubits)]"
      ],
      "execution_count": 96,
      "outputs": []
    },
    {
      "cell_type": "markdown",
      "metadata": {
        "id": "0pp27ZB5I7dY"
      },
      "source": [
        "A sanity check to make sure that our circuit looks as expected. Note that we will pass on indicies to refer to the input states (ex. index=0 means that random state 1 is provided, meaning that it should return state $|0011\\rangle$)."
      ]
    },
    {
      "cell_type": "code",
      "metadata": {
        "colab": {
          "base_uri": "https://localhost:8080/"
        },
        "id": "vFnP624Wh0jt",
        "outputId": "5077817a-601a-444f-8fc9-36baa1a8e593"
      },
      "source": [
        "circuit(weights, 0)\n",
        "print(circuit.draw())"
      ],
      "execution_count": 97,
      "outputs": [
        {
          "output_type": "stream",
          "name": "stdout",
          "text": [
            " 0: ──Rot(0.948, -0.47, 1.69)─────Rot(0.38, -0.503, -1.28)──╭C───────────────────────────────────────────────────────────╭X──Rot(0.218, -0.238, -1.17)──╭C──────────────────────────────────────────────────────────╭X──Rot(1.78, -0.0952, 0.325)──╭C──────────────────────────────────────────────────────────╭X──Rot(1.74, -0.669, 0.481)──╭C─────────────────────────────────────────────────────────────╭X──Rot(-1.77, -1.09, 1.36)──╭C──────────╭X──┤ ⟨Z⟩ \n",
            " 1: ──Rot(-3.26, -0.819, -0.966)──Rot(-3.5, 0.546, 1.9)─────╰X──╭C───Rot(-1.15, -2.21, 0.357)────────────────────────────│──────────────────────────────╰X──╭C───Rot(-1.24, 2.03, -0.513)───────────────────────────│──────────────────────────────╰X──╭C───Rot(-0.588, -1.51, -1.01)──────────────────────────│─────────────────────────────╰X──╭C───Rot(1.49, 0.0666, -1.02)──────────────────────────────│────────────────────────────╰X──╭C──────│───┤ ⟨Z⟩ \n",
            " 2: ──Rot(-0.972, 0.666, -0.787)──Rot(-0.59, -0.4, -0.197)──────╰X──╭C─────────────────────────Rot(0.228, -1.16, 0.459)──│──────────────────────────────────╰X──╭C─────────────────────────Rot(2.25, -0.049, 2.02)──│──────────────────────────────────╰X──╭C──────────────────────────Rot(0.64, 1.42, 0.473)──│─────────────────────────────────╰X──╭C─────────────────────────Rot(-0.733, -0.412, -2.57)──│────────────────────────────────╰X──╭C──│───┤ ⟨Z⟩ \n",
            " 3: ──Rot(-1.35, 1.4, -0.116)─────Rot(-2.54, 0.33, -0.681)──────────╰X───────────────────────────────────────────────────╰C──Rot(-2.33, 0.414, -0.694)──────────╰X──────────────────────────────────────────────────╰C──Rot(1.63, -0.856, 1.32)────────────╰X──────────────────────────────────────────────────╰C──Rot(2.69, 1.41, -0.246)───────────╰X─────────────────────────────────────────────────────╰C──Rot(2.17, -0.928, 2.86)──────────╰X──╰C──┤ ⟨Z⟩ \n",
            "\n"
          ]
        }
      ]
    },
    {
      "cell_type": "markdown",
      "metadata": {
        "id": "DnDv8BHFJ5eb"
      },
      "source": [
        "## 3. Optimization"
      ]
    },
    {
      "cell_type": "markdown",
      "metadata": {
        "id": "JK7SiN7LJ8OP"
      },
      "source": [
        "Our goal is to make sure that depending on the random state index, the actual output matches as closely as the expected output. As such, we can define the cost function as:\n",
        "\n",
        "$$ C = \\Sigma_{i=1}^{4}(\\hat{y_i}-y_i)^2 $$\n",
        "\n",
        "where $\\hat{y}$ is the expected qubit state (ex. $|0011\\rangle$for random state 1) and $y$ is the measured qubit state along Z axis."
      ]
    },
    {
      "cell_type": "code",
      "metadata": {
        "id": "--m-MY_ecFr-"
      },
      "source": [
        "def cost(weights, input_index):\n",
        "    output = circuit(weights, input_index)\n",
        "    expected_output = expected_outputs[input_index]\n",
        "\n",
        "    cost = 0\n",
        "    for i in range(num_qubits):\n",
        "      cost += torch.square(expected_output[i] - output[i])\n",
        "    \n",
        "    return cost"
      ],
      "execution_count": 98,
      "outputs": []
    },
    {
      "cell_type": "markdown",
      "metadata": {
        "id": "MUx79_kSMFQJ"
      },
      "source": [
        "Now we can run the optimization."
      ]
    },
    {
      "cell_type": "code",
      "metadata": {
        "colab": {
          "base_uri": "https://localhost:8080/"
        },
        "id": "HGmF-j1CVyPz",
        "outputId": "8475b882-dd7e-4e74-d0fe-cf2197d44341"
      },
      "source": [
        "# set up the optimizer\n",
        "opt = torch.optim.Adam([weights], lr=0.005)\n",
        "steps = 2500\n",
        "\n",
        "best_cost = cost(weights, 0)\n",
        "\n",
        "loss_log = []\n",
        "\n",
        "# optimization begins\n",
        "for n in range(steps):\n",
        "    indicies = list(range(num_inputs))\n",
        "    np.random.shuffle(indicies)\n",
        "\n",
        "    loss_sum = 0\n",
        "    opt.zero_grad()\n",
        "\n",
        "    for index in indicies: \n",
        "      loss = cost(weights, index)\n",
        "      loss_sum += loss\n",
        "\n",
        "    loss_sum.backward()\n",
        "    opt.step()\n",
        "\n",
        "    if loss < best_cost:\n",
        "        best_cost = loss\n",
        "        best_weight = weights\n",
        "\n",
        "    if n % 10 == 0:\n",
        "      loss_log.append(loss_sum / num_inputs)\n",
        "\n",
        "    if n % 100 == 99:\n",
        "        print(\"Cost after {} steps is {:.4f}\".format(n + 1, best_cost))"
      ],
      "execution_count": 99,
      "outputs": [
        {
          "output_type": "stream",
          "name": "stdout",
          "text": [
            "Cost after 100 steps is 1.0893\n",
            "Cost after 200 steps is 0.3143\n",
            "Cost after 300 steps is 0.2285\n",
            "Cost after 400 steps is 0.2185\n",
            "Cost after 500 steps is 0.2185\n",
            "Cost after 600 steps is 0.2185\n",
            "Cost after 700 steps is 0.2185\n",
            "Cost after 800 steps is 0.2185\n",
            "Cost after 900 steps is 0.2185\n",
            "Cost after 1000 steps is 0.2185\n",
            "Cost after 1100 steps is 0.1971\n",
            "Cost after 1200 steps is 0.1585\n",
            "Cost after 1300 steps is 0.1228\n",
            "Cost after 1400 steps is 0.1013\n",
            "Cost after 1500 steps is 0.0936\n",
            "Cost after 1600 steps is 0.0927\n",
            "Cost after 1700 steps is 0.0927\n",
            "Cost after 1800 steps is 0.0927\n",
            "Cost after 1900 steps is 0.0927\n",
            "Cost after 2000 steps is 0.0863\n",
            "Cost after 2100 steps is 0.0842\n",
            "Cost after 2200 steps is 0.0842\n",
            "Cost after 2300 steps is 0.0842\n",
            "Cost after 2400 steps is 0.0842\n",
            "Cost after 2500 steps is 0.0842\n"
          ]
        }
      ]
    },
    {
      "cell_type": "markdown",
      "metadata": {
        "id": "DrJ1yIfEPJXy"
      },
      "source": [
        "## 4. Results & Analysis"
      ]
    },
    {
      "cell_type": "markdown",
      "metadata": {
        "id": "Q55fxI7WO18D"
      },
      "source": [
        "This visualizes the loss throughout layer numbers."
      ]
    },
    {
      "cell_type": "code",
      "metadata": {
        "id": "d-tEnzu_W_40"
      },
      "source": [
        "loss_log_dict[num_layers]  = loss_log"
      ],
      "execution_count": 100,
      "outputs": []
    },
    {
      "cell_type": "code",
      "metadata": {
        "colab": {
          "base_uri": "https://localhost:8080/"
        },
        "id": "js9InbtyX8DG",
        "outputId": "1bec0887-888f-49c2-f463-19ee8619adce"
      },
      "source": [
        "loss_log_dict.keys()"
      ],
      "execution_count": 101,
      "outputs": [
        {
          "output_type": "execute_result",
          "data": {
            "text/plain": [
              "dict_keys([3, 2, 1, 4, 5])"
            ]
          },
          "metadata": {},
          "execution_count": 101
        }
      ]
    },
    {
      "cell_type": "code",
      "metadata": {
        "colab": {
          "base_uri": "https://localhost:8080/",
          "height": 279
        },
        "id": "19JiO8vKLv-S",
        "outputId": "a50ffc18-8e03-4b42-e97d-b7cca5dda543"
      },
      "source": [
        "log_loss_list = sorted(list(loss_log_dict.items()), key=lambda a: a[0])\n",
        "for num_layer, loss in log_loss_list:\n",
        "    plt.plot(loss, label=str(num_layer))\n",
        "\n",
        "plt.ylabel('LOSS')\n",
        "plt.xlabel('STEPS')\n",
        "plt.legend()\n",
        "plt.show()"
      ],
      "execution_count": 103,
      "outputs": [
        {
          "output_type": "display_data",
          "data": {
            "image/png": "[encoded data removed]",
            "text/plain": [
              "<Figure size 432x288 with 1 Axes>"
            ]
          },
          "metadata": {
            "needs_background": "light"
          }
        }
      ]
    },
    {
      "cell_type": "markdown",
      "metadata": {
        "id": "SqJzVqg9bR88"
      },
      "source": [
        "This shows that increasing number of layers results lower loss. However, after the third layer, it seems to be stuck at a plateau. Since this is using a simualtor, in real life quantum computers, the extra benefit of #4 and #5 layer might not be that prominent."
      ]
    },
    {
      "cell_type": "markdown",
      "metadata": {
        "id": "pqBsQrPoPCGh"
      },
      "source": [
        "We can see how close the results are to the expected value."
      ]
    },
    {
      "cell_type": "code",
      "metadata": {
        "colab": {
          "base_uri": "https://localhost:8080/"
        },
        "id": "I9pwmqOwy-gm",
        "outputId": "d34acded-97df-43b8-89f3-effb1354b6b1"
      },
      "source": [
        "for i in range(num_inputs):\n",
        "  expected_output = expected_outputs[i]\n",
        "  result = circuit(best_weight, i)\n",
        "\n",
        "  print(\"Expected: \")\n",
        "  print(expected_output)\n",
        "\n",
        "  print(\"Actual: \")\n",
        "  print(result)"
      ],
      "execution_count": 104,
      "outputs": [
        {
          "output_type": "stream",
          "name": "stdout",
          "text": [
            "Expected: \n",
            "tensor([-1, -1,  1,  1])\n",
            "Actual: \n",
            "tensor([-0.7635, -0.7739,  0.7556,  0.7581], dtype=torch.float64,\n",
            "       grad_fn=<CatBackward>)\n",
            "Expected: \n",
            "tensor([-1,  1, -1,  1])\n",
            "Actual: \n",
            "tensor([-0.8710,  0.7691, -0.9202,  0.8917], dtype=torch.float64,\n",
            "       grad_fn=<CatBackward>)\n",
            "Expected: \n",
            "tensor([ 1, -1,  1, -1])\n",
            "Actual: \n",
            "tensor([ 0.8564, -0.8172,  0.8713, -0.8564], dtype=torch.float64,\n",
            "       grad_fn=<CatBackward>)\n",
            "Expected: \n",
            "tensor([ 1,  1, -1, -1])\n",
            "Actual: \n",
            "tensor([ 0.7838,  0.7546, -0.7911, -0.7654], dtype=torch.float64,\n",
            "       grad_fn=<CatBackward>)\n"
          ]
        }
      ]
    },
    {
      "cell_type": "markdown",
      "metadata": {
        "id": "6dBC1q0Sb1AN"
      },
      "source": [
        "Although not an exact match, it shows a general good match with the expected value."
      ]
    },
    {
      "cell_type": "code",
      "metadata": {
        "colab": {
          "base_uri": "https://localhost:8080/"
        },
        "id": "y4ha431X7Bey",
        "outputId": "b5d4d35c-b74d-46aa-bf8e-d3eaa9ed2749"
      },
      "source": [
        "best_weight"
      ],
      "execution_count": 105,
      "outputs": [
        {
          "output_type": "execute_result",
          "data": {
            "text/plain": [
              "tensor([[[ 0.8510, -0.6865, -1.3884],\n",
              "         [-4.5748,  0.2905,  2.9350],\n",
              "         [-1.9173, -1.0476,  0.8131],\n",
              "         [-1.3261,  1.1436, -1.3967]],\n",
              "\n",
              "        [[-0.8215, -1.2220, -1.2098],\n",
              "         [-1.2060, -1.2387, -0.2153],\n",
              "         [-0.4225, -1.1852,  1.2077],\n",
              "         [-4.1541,  0.2387,  0.4177]],\n",
              "\n",
              "        [[ 3.7078, -0.9911, -2.6410],\n",
              "         [-1.3939,  0.7263, -1.5258],\n",
              "         [ 3.4288, -0.0272,  2.0382],\n",
              "         [ 3.6883, -1.0564, -0.0051]],\n",
              "\n",
              "        [[ 2.8894, -1.4568,  0.1506],\n",
              "         [-1.5198, -1.0758, -1.5523],\n",
              "         [-1.0499,  1.5663,  0.3458],\n",
              "         [ 1.2186,  1.2244,  0.4463]],\n",
              "\n",
              "        [[-1.6487, -0.7580,  1.3602],\n",
              "         [ 3.2616,  1.2156, -1.0174],\n",
              "         [-0.4031, -1.7757, -2.5718],\n",
              "         [ 3.2261, -1.7989,  2.8644]]], dtype=torch.float64,\n",
              "       requires_grad=True)"
            ]
          },
          "metadata": {},
          "execution_count": 105
        }
      ]
    },
    {
      "cell_type": "markdown",
      "metadata": {
        "id": "VqKDkcrSPNzY"
      },
      "source": [
        "Let's provide a different state to see what happens."
      ]
    },
    {
      "cell_type": "code",
      "metadata": {
        "id": "lG4jmVeMcYXM"
      },
      "source": [
        "# Initialize Variables\n",
        "num_inputs = 4\n",
        "num_qubits = 4\n",
        " \n",
        "new_state = np.random.normal(0, np.pi/2, (num_inputs, num_qubits, 3))\n",
        "new_state = Variable(torch.tensor(new_state), requires_grad=False)"
      ],
      "execution_count": 107,
      "outputs": []
    },
    {
      "cell_type": "code",
      "metadata": {
        "id": "lyWjWP-rADy-"
      },
      "source": [
        "@qml.qnode(dev, interface=\"torch\")\n",
        "def circuit2(weights, input_index):\n",
        "\n",
        "    init = new_state[input_index]\n",
        "\n",
        "    # Initialize input state\n",
        "    for i in range(num_qubits):\n",
        "      qml.Rot(init[i, 0], init[i, 1], init[i, 2], wires=i)\n",
        "\n",
        "    for i in range(num_layers):\n",
        "        layer(weights[i])\n",
        "\n",
        "    return [qml.expval(qml.PauliZ(i)) for i in range(num_qubits)]"
      ],
      "execution_count": 108,
      "outputs": []
    },
    {
      "cell_type": "code",
      "metadata": {
        "colab": {
          "base_uri": "https://localhost:8080/"
        },
        "id": "s5RIhRjJcvng",
        "outputId": "d879cf7d-f5b3-4e36-ba47-1d94c0d81c80"
      },
      "source": [
        "for i in range(num_inputs):\n",
        "  result = circuit2(best_weight, i)\n",
        "  print(result)"
      ],
      "execution_count": 109,
      "outputs": [
        {
          "output_type": "stream",
          "name": "stdout",
          "text": [
            "tensor([-0.0811,  0.2195, -0.2084,  0.0991], dtype=torch.float64,\n",
            "       grad_fn=<CatBackward>)\n",
            "tensor([ 0.3176,  0.1439, -0.2667, -0.2511], dtype=torch.float64,\n",
            "       grad_fn=<CatBackward>)\n",
            "tensor([ 0.0070,  0.0491, -0.6412, -0.1111], dtype=torch.float64,\n",
            "       grad_fn=<CatBackward>)\n",
            "tensor([-0.0783, -0.3329,  0.2595,  0.5059], dtype=torch.float64,\n",
            "       grad_fn=<CatBackward>)\n"
          ]
        }
      ]
    },
    {
      "cell_type": "markdown",
      "metadata": {
        "id": "nvRnzVXmc_aG"
      },
      "source": [
        "Seems like there is no major correlation between the input and the output for this weight, although it warrants a closer look."
      ]
    },
    {
      "cell_type": "code",
      "metadata": {
        "id": "Ki4T7R-TdH9h"
      },
      "source": [
        ""
      ],
      "execution_count": null,
      "outputs": []
    }
  ]
}